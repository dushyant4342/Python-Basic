{
  "nbformat": 4,
  "nbformat_minor": 0,
  "metadata": {
    "colab": {
      "name": "SETS.ipynb",
      "provenance": [],
      "collapsed_sections": []
    },
    "kernelspec": {
      "name": "python3",
      "display_name": "Python 3"
    }
  },
  "cells": [
    {
      "cell_type": "code",
      "metadata": {
        "id": "36iIDMdvGNdd"
      },
      "source": [
        "#SETS \n",
        "#The elements in the set cannot be duplicates.\n",
        "#The elements in the set are immutable(cannot be modified) but the set as a whole is mutable.\n",
        "#There is no index attached to any element in a python set. So they do not support any indexing or slicing operation."
      ],
      "execution_count": 1,
      "outputs": []
    },
    {
      "cell_type": "code",
      "metadata": {
        "id": "ebbqEdIgKEet",
        "outputId": "62ce92b8-629c-4762-93bd-a398a7238239",
        "colab": {
          "base_uri": "https://localhost:8080/"
        }
      },
      "source": [
        "Days=set([\"Mon\",\"Tue\",\"Wed\",\"Thu\",\"Fri\",\"Sat\",\"Sun\"])\n",
        "Months={\"Jan\",\"Feb\",\"Mar\"}\n",
        "Dates={21,22,17}\n",
        "print(Days)\n",
        "print(Months)\n",
        "print(Dates)"
      ],
      "execution_count": 3,
      "outputs": [
        {
          "output_type": "stream",
          "text": [
            "{'Fri', 'Wed', 'Sun', 'Sat', 'Mon', 'Tue', 'Thu'}\n",
            "{'Feb', 'Jan', 'Mar'}\n",
            "{17, 21, 22}\n"
          ],
          "name": "stdout"
        }
      ]
    },
    {
      "cell_type": "code",
      "metadata": {
        "id": "cq6HZmm8KSrQ",
        "outputId": "5c400af3-8819-46ee-9d29-e54672b6e33c",
        "colab": {
          "base_uri": "https://localhost:8080/"
        }
      },
      "source": [
        "Days={\"Mon\",\"Tue\",\"Wed\",\"Thu\",\"Fri\",\"Sat\",\"Sun\"}\n",
        " \n",
        "for d in Days:\n",
        "\tprint(d)"
      ],
      "execution_count": 4,
      "outputs": [
        {
          "output_type": "stream",
          "text": [
            "Fri\n",
            "Wed\n",
            "Sun\n",
            "Sat\n",
            "Mon\n",
            "Tue\n",
            "Thu\n"
          ],
          "name": "stdout"
        }
      ]
    },
    {
      "cell_type": "code",
      "metadata": {
        "id": "k9hYIae5Kuzh",
        "outputId": "35a733f5-5c13-4e85-da26-9682441754ed",
        "colab": {
          "base_uri": "https://localhost:8080/"
        }
      },
      "source": [
        "Days={\"Mon\",\"Tue\",\"Wed\",\"Thu\",\"Fri\",\"Sat\"}\n",
        " \n",
        "Days.add(\"Sun\")\n",
        "print(Days)"
      ],
      "execution_count": 7,
      "outputs": [
        {
          "output_type": "stream",
          "text": [
            "{'Fri', 'Wed', 'Sun', 'Sat', 'Mon', 'Tue', 'Thu'}\n"
          ],
          "name": "stdout"
        }
      ]
    },
    {
      "cell_type": "code",
      "metadata": {
        "id": "M6l3azsOK27m",
        "outputId": "fe3a6b91-40c9-4211-edf6-91727e34a7f3",
        "colab": {
          "base_uri": "https://localhost:8080/"
        }
      },
      "source": [
        "Days={\"Mon\",\"Tue\",\"Wed\",\"Thu\",\"Fri\",\"Sat\",\"Sun\"}\n",
        " \n",
        "Days.discard(\"Sun\")\n",
        "print(Days)"
      ],
      "execution_count": 8,
      "outputs": [
        {
          "output_type": "stream",
          "text": [
            "{'Fri', 'Wed', 'Sat', 'Mon', 'Tue', 'Thu'}\n"
          ],
          "name": "stdout"
        }
      ]
    },
    {
      "cell_type": "code",
      "metadata": {
        "id": "SDB9hrlALRi3",
        "outputId": "f4ae4821-b1b4-4682-b6fc-7df8fd23a07c",
        "colab": {
          "base_uri": "https://localhost:8080/"
        }
      },
      "source": [
        "#Intersection of SETS\n",
        "DaysA = set([\"Mon\",\"Tue\",\"Wed\"])\n",
        "DaysB = set([\"Wed\",\"Thu\",\"Fri\",\"Sat\",\"Sun\"])\n",
        "AllDays = DaysA & DaysB\n",
        "print(AllDays)"
      ],
      "execution_count": 9,
      "outputs": [
        {
          "output_type": "stream",
          "text": [
            "{'Wed'}\n"
          ],
          "name": "stdout"
        }
      ]
    },
    {
      "cell_type": "code",
      "metadata": {
        "id": "nZWW3jFlLuy0",
        "outputId": "4e7159ce-bae3-4ce5-bd16-6e1a1de95910",
        "colab": {
          "base_uri": "https://localhost:8080/"
        }
      },
      "source": [
        "DaysA = set([\"Mon\",\"Tue\",\"Wed\"])\n",
        "DaysB = set([\"Wed\",\"Thu\",\"Fri\",\"Sat\",\"Sun\"])\n",
        "AllDays = DaysA - DaysB\n",
        "print(AllDays)"
      ],
      "execution_count": 10,
      "outputs": [
        {
          "output_type": "stream",
          "text": [
            "{'Mon', 'Tue'}\n"
          ],
          "name": "stdout"
        }
      ]
    },
    {
      "cell_type": "code",
      "metadata": {
        "id": "OKOzWxVuLzuB"
      },
      "source": [
        "#Set comprehensions are pretty similar to list comprehensions. The only difference between them is that set comprehensions use curly brackets { }."
      ],
      "execution_count": 11,
      "outputs": []
    },
    {
      "cell_type": "code",
      "metadata": {
        "id": "1rBw0UCnNWbG",
        "outputId": "e99b1168-e057-4240-ba32-196a9fc97cd9",
        "colab": {
          "base_uri": "https://localhost:8080/"
        }
      },
      "source": [
        "input_list = [1, 2, 3, 4, 4, 5, 6, 6, 6, 7, 7] \n",
        "\n",
        "output_set = set() \n",
        "\n",
        "# Using loop for constructing output set \n",
        "for var in input_list: \n",
        "\tif var % 2 == 0: \n",
        "\t\toutput_set.add(var) \n",
        "\n",
        "print(\"Output Set using for loop:\", output_set) "
      ],
      "execution_count": 1,
      "outputs": [
        {
          "output_type": "stream",
          "text": [
            "Output Set using for loop: {2, 4, 6}\n"
          ],
          "name": "stdout"
        }
      ]
    },
    {
      "cell_type": "code",
      "metadata": {
        "id": "ZJFUOh9aNeWh",
        "outputId": "30e49371-64f5-41cb-da8f-074eb69e3b2e",
        "colab": {
          "base_uri": "https://localhost:8080/"
        }
      },
      "source": [
        "input_list.count(4)"
      ],
      "execution_count": 2,
      "outputs": [
        {
          "output_type": "execute_result",
          "data": {
            "text/plain": [
              "2"
            ]
          },
          "metadata": {
            "tags": []
          },
          "execution_count": 2
        }
      ]
    },
    {
      "cell_type": "code",
      "metadata": {
        "id": "vL414H2yVtSr"
      },
      "source": [
        ""
      ],
      "execution_count": null,
      "outputs": []
    }
  ]
}