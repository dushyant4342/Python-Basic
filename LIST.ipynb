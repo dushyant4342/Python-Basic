{
  "nbformat": 4,
  "nbformat_minor": 0,
  "metadata": {
    "colab": {
      "name": "LIST.ipynb",
      "provenance": [],
      "collapsed_sections": []
    },
    "kernelspec": {
      "name": "python3",
      "display_name": "Python 3"
    }
  },
  "cells": [
    {
      "cell_type": "code",
      "metadata": {
        "id": "4kQLPKmWBoRU"
      },
      "source": [
        "list = [1,2,3,4,\"Ram\",\"Shyam\",11]"
      ],
      "execution_count": 45,
      "outputs": []
    },
    {
      "cell_type": "code",
      "metadata": {
        "id": "1iM4LnktC5BF",
        "outputId": "9f5b7a6c-f746-482f-ecb1-04f06c546b1b",
        "colab": {
          "base_uri": "https://localhost:8080/"
        }
      },
      "source": [
        "list[1:5]"
      ],
      "execution_count": 46,
      "outputs": [
        {
          "output_type": "execute_result",
          "data": {
            "text/plain": [
              "[2, 3, 4, 'Ram']"
            ]
          },
          "metadata": {
            "tags": []
          },
          "execution_count": 46
        }
      ]
    },
    {
      "cell_type": "code",
      "metadata": {
        "id": "4drGGRM7BwA7",
        "outputId": "93776180-877a-4baf-bae7-8f2e9d4576d6",
        "colab": {
          "base_uri": "https://localhost:8080/"
        }
      },
      "source": [
        "list.append(\"Satyam\")\n",
        "list"
      ],
      "execution_count": 47,
      "outputs": [
        {
          "output_type": "execute_result",
          "data": {
            "text/plain": [
              "[1, 2, 3, 4, 'Ram', 'Shyam', 11, 'Satyam']"
            ]
          },
          "metadata": {
            "tags": []
          },
          "execution_count": 47
        }
      ]
    },
    {
      "cell_type": "code",
      "metadata": {
        "id": "nhFIECqaBzUe",
        "outputId": "67c4b950-b7f3-4c1f-bb5a-3525f4fcf483",
        "colab": {
          "base_uri": "https://localhost:8080/"
        }
      },
      "source": [
        "list.extend([7,8])\n",
        "list.append(1)\n",
        "list.count(1)"
      ],
      "execution_count": 48,
      "outputs": [
        {
          "output_type": "execute_result",
          "data": {
            "text/plain": [
              "2"
            ]
          },
          "metadata": {
            "tags": []
          },
          "execution_count": 48
        }
      ]
    },
    {
      "cell_type": "code",
      "metadata": {
        "id": "KkvrGxOgB-8q",
        "outputId": "599a2a9b-6d97-4afc-c7d3-ffb815483f67",
        "colab": {
          "base_uri": "https://localhost:8080/"
        }
      },
      "source": [
        "list"
      ],
      "execution_count": 49,
      "outputs": [
        {
          "output_type": "execute_result",
          "data": {
            "text/plain": [
              "[1, 2, 3, 4, 'Ram', 'Shyam', 11, 'Satyam', 7, 8, 1]"
            ]
          },
          "metadata": {
            "tags": []
          },
          "execution_count": 49
        }
      ]
    },
    {
      "cell_type": "code",
      "metadata": {
        "id": "RdX6FAS9CAr8",
        "outputId": "b3c10bb9-7483-439d-f82b-b06dd4bdf90b",
        "colab": {
          "base_uri": "https://localhost:8080/"
        }
      },
      "source": [
        "list.pop()"
      ],
      "execution_count": 50,
      "outputs": [
        {
          "output_type": "execute_result",
          "data": {
            "text/plain": [
              "1"
            ]
          },
          "metadata": {
            "tags": []
          },
          "execution_count": 50
        }
      ]
    },
    {
      "cell_type": "code",
      "metadata": {
        "id": "mnCkDmFtCDHS",
        "outputId": "a01bc2bb-fbff-4bf0-a6ee-b4ab6e44d653",
        "colab": {
          "base_uri": "https://localhost:8080/"
        }
      },
      "source": [
        "list.pop(0)"
      ],
      "execution_count": 51,
      "outputs": [
        {
          "output_type": "execute_result",
          "data": {
            "text/plain": [
              "1"
            ]
          },
          "metadata": {
            "tags": []
          },
          "execution_count": 51
        }
      ]
    },
    {
      "cell_type": "code",
      "metadata": {
        "id": "9GJgdfpnCEYk",
        "outputId": "271ecad7-e795-49e1-faf6-2766b8d16450",
        "colab": {
          "base_uri": "https://localhost:8080/"
        }
      },
      "source": [
        "list.insert(1,\"English\")\n",
        "list"
      ],
      "execution_count": 52,
      "outputs": [
        {
          "output_type": "execute_result",
          "data": {
            "text/plain": [
              "[2, 'English', 3, 4, 'Ram', 'Shyam', 11, 'Satyam', 7, 8]"
            ]
          },
          "metadata": {
            "tags": []
          },
          "execution_count": 52
        }
      ]
    },
    {
      "cell_type": "code",
      "metadata": {
        "id": "55odWP5PCJ5F",
        "outputId": "6b54365f-aff0-4fd0-bded-1ef898e5ff70",
        "colab": {
          "base_uri": "https://localhost:8080/"
        }
      },
      "source": [
        "list.index(7)"
      ],
      "execution_count": 53,
      "outputs": [
        {
          "output_type": "execute_result",
          "data": {
            "text/plain": [
              "8"
            ]
          },
          "metadata": {
            "tags": []
          },
          "execution_count": 53
        }
      ]
    },
    {
      "cell_type": "code",
      "metadata": {
        "id": "dFY5Pr5fCWT1"
      },
      "source": [
        "# List Comprehension"
      ],
      "execution_count": 54,
      "outputs": []
    },
    {
      "cell_type": "code",
      "metadata": {
        "id": "PmyJdRNNDa1U",
        "outputId": "afe3c651-b694-476e-e2f9-38cbacd9a2a2",
        "colab": {
          "base_uri": "https://localhost:8080/"
        }
      },
      "source": [
        "lst = [1,2,3,4,5,6,7,8,9]\n",
        "squares = [x**2 for x in lst]\n",
        "squares"
      ],
      "execution_count": 55,
      "outputs": [
        {
          "output_type": "execute_result",
          "data": {
            "text/plain": [
              "[1, 4, 9, 16, 25, 36, 49, 64, 81]"
            ]
          },
          "metadata": {
            "tags": []
          },
          "execution_count": 55
        }
      ]
    },
    {
      "cell_type": "code",
      "metadata": {
        "id": "z2RF7t4JDrP1",
        "outputId": "043e5806-397a-44f4-8bfd-b663fff79d21",
        "colab": {
          "base_uri": "https://localhost:8080/"
        }
      },
      "source": [
        "#USING FOR LOOP\n",
        "evens = []\n",
        "for i in range(10):\n",
        "   if i % 2 == 0:\n",
        "      evens.append(i)\n",
        "print(evens)"
      ],
      "execution_count": 56,
      "outputs": [
        {
          "output_type": "stream",
          "text": [
            "[0, 2, 4, 6, 8]\n"
          ],
          "name": "stdout"
        }
      ]
    },
    {
      "cell_type": "code",
      "metadata": {
        "id": "QwPxNtooEB6e",
        "outputId": "7de5329f-1f38-4516-dd95-eb46da4fe7e7",
        "colab": {
          "base_uri": "https://localhost:8080/"
        }
      },
      "source": [
        "28889%791 #reminder"
      ],
      "execution_count": 60,
      "outputs": [
        {
          "output_type": "execute_result",
          "data": {
            "text/plain": [
              "413"
            ]
          },
          "metadata": {
            "tags": []
          },
          "execution_count": 60
        }
      ]
    },
    {
      "cell_type": "code",
      "metadata": {
        "id": "SvbO5buBEKwu",
        "outputId": "5a75823c-5d47-455f-c6fa-9b30698528f9",
        "colab": {
          "base_uri": "https://localhost:8080/"
        }
      },
      "source": [
        "a = [i for i in range(20) if i%2==0]\n",
        "a"
      ],
      "execution_count": 61,
      "outputs": [
        {
          "output_type": "execute_result",
          "data": {
            "text/plain": [
              "[0, 2, 4, 6, 8, 10, 12, 14, 16, 18]"
            ]
          },
          "metadata": {
            "tags": []
          },
          "execution_count": 61
        }
      ]
    },
    {
      "cell_type": "code",
      "metadata": {
        "id": "1BJrmCMrEcD7",
        "outputId": "e8ff1beb-fd22-419c-91f9-b9ab74d65beb",
        "colab": {
          "base_uri": "https://localhost:8080/"
        }
      },
      "source": [
        "lst = [x for x in range(100) if x % 2 == 0 if x % 5 == 0]\n",
        "lst"
      ],
      "execution_count": 65,
      "outputs": [
        {
          "output_type": "execute_result",
          "data": {
            "text/plain": [
              "[0, 10, 20, 30, 40, 50, 60, 70, 80, 90]"
            ]
          },
          "metadata": {
            "tags": []
          },
          "execution_count": 65
        }
      ]
    },
    {
      "cell_type": "code",
      "metadata": {
        "id": "sjivk9BPEgz4",
        "outputId": "d3006c94-1a96-4d33-8874-1918be23aa13",
        "colab": {
          "base_uri": "https://localhost:8080/"
        }
      },
      "source": [
        "even_squares = [x**2 for x in lst if x%2==0]\n",
        "even_squares"
      ],
      "execution_count": 66,
      "outputs": [
        {
          "output_type": "execute_result",
          "data": {
            "text/plain": [
              "[0, 100, 400, 900, 1600, 2500, 3600, 4900, 6400, 8100]"
            ]
          },
          "metadata": {
            "tags": []
          },
          "execution_count": 66
        }
      ]
    },
    {
      "cell_type": "code",
      "metadata": {
        "id": "4h9Krd-5Fjwa",
        "outputId": "12deb6a1-46bb-4481-c5e8-e9ce14e7ea95",
        "colab": {
          "base_uri": "https://localhost:8080/"
        }
      },
      "source": [
        "odd = [i for i in range(100) if not i%2==0]\n",
        "print(odd)\n",
        "len(odd)"
      ],
      "execution_count": 71,
      "outputs": [
        {
          "output_type": "stream",
          "text": [
            "[1, 3, 5, 7, 9, 11, 13, 15, 17, 19, 21, 23, 25, 27, 29, 31, 33, 35, 37, 39, 41, 43, 45, 47, 49, 51, 53, 55, 57, 59, 61, 63, 65, 67, 69, 71, 73, 75, 77, 79, 81, 83, 85, 87, 89, 91, 93, 95, 97, 99]\n"
          ],
          "name": "stdout"
        },
        {
          "output_type": "execute_result",
          "data": {
            "text/plain": [
              "50"
            ]
          },
          "metadata": {
            "tags": []
          },
          "execution_count": 71
        }
      ]
    },
    {
      "cell_type": "code",
      "metadata": {
        "id": "RR4pXgQ_Fzj7",
        "outputId": "cba3d5f4-c75c-45f5-f2c5-f4a43ead410c",
        "colab": {
          "base_uri": "https://localhost:8080/"
        }
      },
      "source": [
        "#List Slicing  mylist[START: STOP:STEP]\n",
        "mylist = [\"Which \", \"Language \", \"To \", \"Choose \", \"Difficult\", \"Python \", \"Java \", \"Kotlin \", \"Many more\"]\n",
        "mylist_slice1 = mylist[0: -1:2]\n",
        "mylist_slice1"
      ],
      "execution_count": 75,
      "outputs": [
        {
          "output_type": "execute_result",
          "data": {
            "text/plain": [
              "['Which ', 'To ', 'Difficult', 'Java ']"
            ]
          },
          "metadata": {
            "tags": []
          },
          "execution_count": 75
        }
      ]
    },
    {
      "cell_type": "code",
      "metadata": {
        "id": "NFZsdrjtGqpY",
        "outputId": "0aae32fb-e7b1-4104-f5e8-edd31a262c85",
        "colab": {
          "base_uri": "https://localhost:8080/"
        }
      },
      "source": [
        "mylist[1: -2:3]"
      ],
      "execution_count": 76,
      "outputs": [
        {
          "output_type": "execute_result",
          "data": {
            "text/plain": [
              "['Language ', 'Difficult']"
            ]
          },
          "metadata": {
            "tags": []
          },
          "execution_count": 76
        }
      ]
    },
    {
      "cell_type": "code",
      "metadata": {
        "id": "OgGxh4iKI60I",
        "outputId": "f46a6760-1c3e-4ff5-83e7-345d5d9124a1",
        "colab": {
          "base_uri": "https://localhost:8080/"
        }
      },
      "source": [
        "mylist[0: -1:1]"
      ],
      "execution_count": 77,
      "outputs": [
        {
          "output_type": "execute_result",
          "data": {
            "text/plain": [
              "['Which ',\n",
              " 'Language ',\n",
              " 'To ',\n",
              " 'Choose ',\n",
              " 'Difficult',\n",
              " 'Python ',\n",
              " 'Java ',\n",
              " 'Kotlin ']"
            ]
          },
          "metadata": {
            "tags": []
          },
          "execution_count": 77
        }
      ]
    },
    {
      "cell_type": "code",
      "metadata": {
        "id": "lhVRlQ61JKFc"
      },
      "source": [
        ""
      ],
      "execution_count": 78,
      "outputs": []
    },
    {
      "cell_type": "code",
      "metadata": {
        "id": "LTbLIu7_KkJc"
      },
      "source": [
        ""
      ],
      "execution_count": null,
      "outputs": []
    }
  ]
}