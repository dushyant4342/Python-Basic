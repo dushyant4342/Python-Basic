{
  "nbformat": 4,
  "nbformat_minor": 0,
  "metadata": {
    "colab": {
      "name": "TUPLES.ipynb",
      "provenance": [],
      "collapsed_sections": []
    },
    "kernelspec": {
      "name": "python3",
      "display_name": "Python 3"
    }
  },
  "cells": [
    {
      "cell_type": "code",
      "metadata": {
        "id": "I1sNqD2KUv_0"
      },
      "source": [
        "#A tuple is a sequence of immutable Python objects. Tuples are sequences, just like lists. The differences between tuples and lists are, \n",
        "#the tuples cannot be changed unlike lists and tuples use parentheses, whereas lists use square brackets."
      ],
      "execution_count": 1,
      "outputs": []
    },
    {
      "cell_type": "code",
      "metadata": {
        "id": "RhjeJb6sVJYQ"
      },
      "source": [
        "tup1 = (\"Chem\",\"Eng\",1,3);\n",
        "tup2 = (\"Science\",\"Maths\",2,5)"
      ],
      "execution_count": 2,
      "outputs": []
    },
    {
      "cell_type": "code",
      "metadata": {
        "id": "cvqi-V2hVTrf",
        "outputId": "15b87fc8-99da-4054-ecd0-6321dad0233f",
        "colab": {
          "base_uri": "https://localhost:8080/",
          "height": 35
        }
      },
      "source": [
        "tup1[1]"
      ],
      "execution_count": 4,
      "outputs": [
        {
          "output_type": "execute_result",
          "data": {
            "application/vnd.google.colaboratory.intrinsic+json": {
              "type": "string"
            },
            "text/plain": [
              "'Eng'"
            ]
          },
          "metadata": {
            "tags": []
          },
          "execution_count": 4
        }
      ]
    },
    {
      "cell_type": "code",
      "metadata": {
        "id": "1qz8MDIrVUmv",
        "outputId": "e78780b8-23a9-4a2d-c915-efb8834719df",
        "colab": {
          "base_uri": "https://localhost:8080/"
        }
      },
      "source": [
        "tup2[1:3]"
      ],
      "execution_count": 5,
      "outputs": [
        {
          "output_type": "execute_result",
          "data": {
            "text/plain": [
              "('Maths', 2)"
            ]
          },
          "metadata": {
            "tags": []
          },
          "execution_count": 5
        }
      ]
    },
    {
      "cell_type": "code",
      "metadata": {
        "id": "7X5QFMY0V4i4",
        "outputId": "c5748bb4-a8cb-4bfc-a924-9efe366b16cf",
        "colab": {
          "base_uri": "https://localhost:8080/"
        }
      },
      "source": [
        "tup1[:]"
      ],
      "execution_count": 6,
      "outputs": [
        {
          "output_type": "execute_result",
          "data": {
            "text/plain": [
              "('Chem', 'Eng', 1, 3)"
            ]
          },
          "metadata": {
            "tags": []
          },
          "execution_count": 6
        }
      ]
    },
    {
      "cell_type": "code",
      "metadata": {
        "id": "lsO7B0piV8oi",
        "outputId": "db1000be-e688-4ff6-e7b1-ec3bee28a044",
        "colab": {
          "base_uri": "https://localhost:8080/"
        }
      },
      "source": [
        "tup3 = tup1 + tup2\n",
        "tup3"
      ],
      "execution_count": 7,
      "outputs": [
        {
          "output_type": "execute_result",
          "data": {
            "text/plain": [
              "('Chem', 'Eng', 1, 3, 'Science', 'Maths', 2, 5)"
            ]
          },
          "metadata": {
            "tags": []
          },
          "execution_count": 7
        }
      ]
    },
    {
      "cell_type": "code",
      "metadata": {
        "id": "m8KcUzcqWGnU"
      },
      "source": [
        ""
      ],
      "execution_count": null,
      "outputs": []
    }
  ]
}