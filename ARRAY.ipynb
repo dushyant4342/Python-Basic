{
  "nbformat": 4,
  "nbformat_minor": 0,
  "metadata": {
    "colab": {
      "name": "ARRAY",
      "provenance": [],
      "collapsed_sections": []
    },
    "kernelspec": {
      "name": "python3",
      "display_name": "Python 3"
    }
  },
  "cells": [
    {
      "cell_type": "code",
      "metadata": {
        "id": "BHRPXLJFauFr",
        "outputId": "15fd12eb-ad74-48c6-eb90-5f868c67247f",
        "colab": {
          "base_uri": "https://localhost:8080/"
        }
      },
      "source": [
        "# Python program for reversal algorithm of array rotation \n",
        "# Function to reverse arr[] from index start to end \n",
        "def reverseArray(arr, start, end): \n",
        "\twhile (start < end): \n",
        "\t\ttemp = arr[start] \n",
        "\t\tarr[start] = arr[end] \n",
        "\t\tarr[end] = temp \n",
        "\t\tstart += 1\n",
        "\t\tend = end-1\n",
        "    \n",
        "# Function to left rotate arr[] of size n by d \n",
        "def leftRotate(arr, d): \n",
        "\n",
        "\tif d == 0: \n",
        "\t\treturn\n",
        "\tn = len(arr) \n",
        "\t# in case the rotating factor is greater than array length \n",
        "\td = d % n \n",
        "\treverseArray(arr, 0, d-1) \n",
        "\treverseArray(arr, d, n-1) \n",
        "\treverseArray(arr, 0, n-1) \n",
        "\n",
        "# Function to print an array \n",
        "def printArray(arr): \n",
        "\tfor i in range(0, len(arr)): \n",
        "\t\tprint (arr[i])\n",
        "\n",
        "# Driver function to test above functions \n",
        "arr = [1, 2, 3, 4, 5, 6, 7] \n",
        "n = len(arr) \n",
        "d = 2\n",
        "\n",
        "leftRotate(arr, d) # Rotate array by 2 \n",
        "printArray(arr) "
      ],
      "execution_count": null,
      "outputs": [
        {
          "output_type": "stream",
          "text": [
            "3\n",
            "4\n",
            "5\n",
            "6\n",
            "7\n",
            "1\n",
            "2\n"
          ],
          "name": "stdout"
        }
      ]
    },
    {
      "cell_type": "code",
      "metadata": {
        "id": "xlpw767DcmpH",
        "outputId": "0f621633-5b37-4fe3-8996-068508ff521c",
        "colab": {
          "base_uri": "https://localhost:8080/"
        }
      },
      "source": [
        "# Python program to split array and move first part to end. \n",
        "\n",
        "def splitArr(arr, n, k): \n",
        "\tfor i in range(0, k): \n",
        "\t\tx = arr[0] \n",
        "\t\tfor j in range(0, n-1): \n",
        "\t\t\tarr[j] = arr[j + 1] \n",
        "\t\t\n",
        "\t\tarr[n-1] = x \n",
        "\t\t\n",
        "arr = [12, 10, 5, 6, 52, 36] \n",
        "n = len(arr) \n",
        "k = 2\n",
        "\n",
        "splitArr(arr, n, k) \n",
        "\n",
        "for i in range(0, n): \n",
        "\tprint(arr[i], end = ' ') "
      ],
      "execution_count": null,
      "outputs": [
        {
          "output_type": "stream",
          "text": [
            "5 6 52 36 12 10 "
          ],
          "name": "stdout"
        }
      ]
    },
    {
      "cell_type": "code",
      "metadata": {
        "id": "yzHnGtuTdOT7",
        "outputId": "f8f544db-bd4d-4082-9459-a8f120a8839a",
        "colab": {
          "base_uri": "https://localhost:8080/"
        }
      },
      "source": [
        "#Array Interview Questions\n",
        "# 1. find missing number in an array of 1 to 22\n",
        "A = [x for x in range(1,21)]\n",
        "A.append(22)\n",
        "def findmissing(A):\n",
        "  n= len(A)\n",
        "  missing = (n+1)*(n+2)/2 - sum(A)\n",
        "  return missing\n",
        "\n",
        "print(findmissing(A))\n",
        "print(A)"
      ],
      "execution_count": null,
      "outputs": [
        {
          "output_type": "stream",
          "text": [
            "21.0\n",
            "[1, 2, 3, 4, 5, 6, 7, 8, 9, 10, 11, 12, 13, 14, 15, 16, 17, 18, 19, 20, 22]\n"
          ],
          "name": "stdout"
        }
      ]
    },
    {
      "cell_type": "code",
      "metadata": {
        "id": "ywa9VKNZzew1",
        "outputId": "39a93cc1-1753-4d8a-f481-82a525e80068",
        "colab": {
          "base_uri": "https://localhost:8080/"
        }
      },
      "source": [
        "#2. find duplicate in array of integers # using dictionary approach.\n",
        "def printDuplicates(arr):\n",
        "\tdict = {}\n",
        "\tfor ele in arr:\n",
        "\t\ttry:\n",
        "\t\t\tdict[ele] += 1\n",
        "\t\texcept:\n",
        "\t\t\tdict[ele] = 1\n",
        "\t\t\t\n",
        "\tfor item in dict:\t\n",
        "\t\t# if frequency is more than 1 print the element\n",
        "\t\tif(dict[item] > 1):\n",
        "\t\t\tprint(item, end=\" \")\n",
        "\n",
        "\tprint(\"\\n\")\n",
        "\n",
        "if __name__ == \"__main__\":\n",
        "\tlist = [12, 11, 40, 12, \n",
        "\t\t\t5, 6, 5, 12, 11]\n",
        "\tprintDuplicates(list)"
      ],
      "execution_count": null,
      "outputs": [
        {
          "output_type": "stream",
          "text": [
            "12 11 5 \n",
            "\n"
          ],
          "name": "stdout"
        }
      ]
    },
    {
      "cell_type": "code",
      "metadata": {
        "id": "ztBGotuJ1lsH",
        "outputId": "9b3342ae-b0dc-4109-e835-035193fdc15c",
        "colab": {
          "base_uri": "https://localhost:8080/"
        }
      },
      "source": [
        "#2 \n",
        "#Find the two repeating elements in a given array \n",
        "def printRepeating(arr, size): \n",
        "\tfor i in range (0, size): \n",
        "\t\tfor j in range (i + 1, size): \n",
        "\t\t\tif arr[i] == arr[j]: \n",
        "\t\t\t\tprint(arr[i], end = ' ') \n",
        "arr = [4, 2, 4, 5, 2, 3, 1] \n",
        "arr_size = len(arr) \n",
        "printRepeating(arr, arr_size) "
      ],
      "execution_count": null,
      "outputs": [
        {
          "output_type": "stream",
          "text": [
            "4 2 "
          ],
          "name": "stdout"
        }
      ]
    },
    {
      "cell_type": "code",
      "metadata": {
        "id": "8_95yOtx3Tud",
        "outputId": "cd0910dd-5cc6-44d9-9d74-db551c8bf0dd",
        "colab": {
          "base_uri": "https://localhost:8080/"
        }
      },
      "source": [
        "#Q.3) Python3 program to find k'th smallest element \n",
        "\n",
        "def kthSmallest(arr, n, k): \n",
        "\t# Sort the given array \n",
        "\tarr.sort() \n",
        "\t# Return k'th element in the sorted array \n",
        "\treturn arr[k-1] \n",
        "\n",
        "if __name__=='__main__': \n",
        "\tarr = [12, 3, 5, 7, 19] \n",
        "\tn = len(arr) \n",
        "\tk = 2\n",
        "\tprint(\"K'th smallest element is\", kthSmallest(arr, n, k)) "
      ],
      "execution_count": null,
      "outputs": [
        {
          "output_type": "stream",
          "text": [
            "K'th smallest element is 5\n"
          ],
          "name": "stdout"
        }
      ]
    },
    {
      "cell_type": "code",
      "metadata": {
        "id": "FDuBmCuT5WPL",
        "outputId": "ee08157b-3373-4040-8dbe-c4e8cef0a4e6",
        "colab": {
          "base_uri": "https://localhost:8080/"
        }
      },
      "source": [
        "arr = [12, 3, 5, 7, 19] \n",
        "arr.sort()\n",
        "b=3\n",
        "print(arr[len(arr)-b])"
      ],
      "execution_count": null,
      "outputs": [
        {
          "output_type": "stream",
          "text": [
            "7\n"
          ],
          "name": "stdout"
        }
      ]
    },
    {
      "cell_type": "code",
      "metadata": {
        "id": "qvl0siXM6sC6"
      },
      "source": [
        ""
      ],
      "execution_count": null,
      "outputs": []
    }
  ]
}