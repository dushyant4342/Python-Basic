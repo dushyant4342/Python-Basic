{
  "nbformat": 4,
  "nbformat_minor": 0,
  "metadata": {
    "colab": {
      "name": "DICTIONARY.ipynb",
      "provenance": [],
      "collapsed_sections": []
    },
    "kernelspec": {
      "name": "python3",
      "display_name": "Python 3"
    }
  },
  "cells": [
    {
      "cell_type": "code",
      "metadata": {
        "id": "UBeLzibLRKQ2"
      },
      "source": [
        "#In Dictionary each key is separated from its value by a colon (:), the items are separated by commas, and the whole thing is enclosed in curly braces. \n",
        "#An empty dictionary without any items is written with just two curly braces, like this: {}."
      ],
      "execution_count": 2,
      "outputs": []
    },
    {
      "cell_type": "code",
      "metadata": {
        "id": "yWncIH_kMZ7F",
        "outputId": "63b646a1-4efd-4843-b00b-029495454691",
        "colab": {
          "base_uri": "https://localhost:8080/"
        }
      },
      "source": [
        "dict = {\"Name\": 'Dushyant', \"College\":\"IIT BHU\",\"Degree\":\"B.Tech\",\"Age\":\"18\"}\n",
        "dict"
      ],
      "execution_count": 13,
      "outputs": [
        {
          "output_type": "execute_result",
          "data": {
            "text/plain": [
              "{'Age': '18', 'College': 'IIT BHU', 'Degree': 'B.Tech', 'Name': 'Dushyant'}"
            ]
          },
          "metadata": {
            "tags": []
          },
          "execution_count": 13
        }
      ]
    },
    {
      "cell_type": "code",
      "metadata": {
        "id": "yWFjZBMpRA_C"
      },
      "source": [
        "#Keys are unique within a dictionary while values may not be. The values of a dictionary can be of any type, but the keys must be of an immutable data type \n",
        "#such as strings, numbers, or tuples."
      ],
      "execution_count": 14,
      "outputs": []
    },
    {
      "cell_type": "code",
      "metadata": {
        "id": "a6x6B7g4RvC_",
        "outputId": "066763bf-2547-432e-d820-3fe090ee360e",
        "colab": {
          "base_uri": "https://localhost:8080/"
        }
      },
      "source": [
        "dict['Age'] = 9; # update existing entry\n",
        "dict['College'] = \"MNIT\"; # Add new entry\n",
        "dict"
      ],
      "execution_count": 15,
      "outputs": [
        {
          "output_type": "execute_result",
          "data": {
            "text/plain": [
              "{'Age': 9, 'College': 'MNIT', 'Degree': 'B.Tech', 'Name': 'Dushyant'}"
            ]
          },
          "metadata": {
            "tags": []
          },
          "execution_count": 15
        }
      ]
    },
    {
      "cell_type": "code",
      "metadata": {
        "id": "ij7rgtiLR5PE",
        "outputId": "9bfb62c9-34b9-46b0-e91b-0ed1e3279837",
        "colab": {
          "base_uri": "https://localhost:8080/"
        }
      },
      "source": [
        "dict2 = {'Name': 'Zara', 'Age': 7, 'Class': 'First'}\n",
        "del dict2['Name']; # remove entry with key 'Name'\n",
        "#dict2.clear();     # remove all entries in dict\n",
        "#del dict2 ;        # delete entire dictionary\n",
        "dict2"
      ],
      "execution_count": 16,
      "outputs": [
        {
          "output_type": "execute_result",
          "data": {
            "text/plain": [
              "{'Age': 7, 'Class': 'First'}"
            ]
          },
          "metadata": {
            "tags": []
          },
          "execution_count": 16
        }
      ]
    },
    {
      "cell_type": "code",
      "metadata": {
        "id": "YpqQkGn1SrV1"
      },
      "source": [
        "list = [1,2,3,4,5,6,7,8,9,10]         # Dictionary Comprehension\n",
        "dict3 = {}\n",
        "for var in list:\n",
        "  if var % 2  == 0:\n",
        "    dict3[var] = var**3"
      ],
      "execution_count": 30,
      "outputs": []
    },
    {
      "cell_type": "code",
      "metadata": {
        "id": "9qJUax52TVgM",
        "outputId": "303364f8-c68f-44df-c79b-ddb5f80b9f6a",
        "colab": {
          "base_uri": "https://localhost:8080/"
        }
      },
      "source": [
        "dict3"
      ],
      "execution_count": 31,
      "outputs": [
        {
          "output_type": "execute_result",
          "data": {
            "text/plain": [
              "{2: 8, 4: 64, 6: 216, 8: 512, 10: 1000}"
            ]
          },
          "metadata": {
            "tags": []
          },
          "execution_count": 31
        }
      ]
    },
    {
      "cell_type": "code",
      "metadata": {
        "id": "LEw6A3FdTWqm",
        "outputId": "1a359270-1312-42bb-a4fe-812d097ab7c7",
        "colab": {
          "base_uri": "https://localhost:8080/"
        }
      },
      "source": [
        "state = ['Gujarat', 'Maharashtra', 'Rajasthan'] \n",
        "capital = ['Gandhinagar', 'Mumbai', 'Jaipur'] \n",
        "\n",
        "output_dict = {} \n",
        "\n",
        "# Using loop for constructing output dictionary \n",
        "for (key, value) in zip(state, capital): \n",
        "\toutput_dict[key] = value \n",
        "\n",
        "print(\"Output Dictionary using for loop:\", output_dict) "
      ],
      "execution_count": 33,
      "outputs": [
        {
          "output_type": "stream",
          "text": [
            "Output Dictionary using for loop: {'Gujarat': 'Gandhinagar', 'Maharashtra': 'Mumbai', 'Rajasthan': 'Jaipur'}\n"
          ],
          "name": "stdout"
        }
      ]
    },
    {
      "cell_type": "code",
      "metadata": {
        "id": "YsNOQFZEUcUJ"
      },
      "source": [
        ""
      ],
      "execution_count": 34,
      "outputs": []
    },
    {
      "cell_type": "code",
      "metadata": {
        "id": "2Z6gqOPtUnv2"
      },
      "source": [
        ""
      ],
      "execution_count": null,
      "outputs": []
    }
  ]
}