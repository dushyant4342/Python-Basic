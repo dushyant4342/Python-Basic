{
  "nbformat": 4,
  "nbformat_minor": 0,
  "metadata": {
    "colab": {
      "name": "NUMPY.ipynb",
      "provenance": [],
      "collapsed_sections": []
    },
    "kernelspec": {
      "name": "python3",
      "display_name": "Python 3"
    }
  },
  "cells": [
    {
      "cell_type": "code",
      "metadata": {
        "id": "vLuqcIkqLRhR",
        "outputId": "080c1cb5-cac7-4531-8c07-53c9801ef464",
        "colab": {
          "base_uri": "https://localhost:8080/"
        }
      },
      "source": [
        "import numpy as np\n",
        "list = [1,2,3,4,5]\n",
        "arr = np.array(list)   #array contains all elements of same data type\n",
        "print(arr)"
      ],
      "execution_count": 6,
      "outputs": [
        {
          "output_type": "stream",
          "text": [
            "[1 2 3 4 5]\n"
          ],
          "name": "stdout"
        }
      ]
    },
    {
      "cell_type": "code",
      "metadata": {
        "id": "aqJuKEgcLiVV",
        "outputId": "1ec734e1-a585-4a56-d28f-86eb02fab9cc",
        "colab": {
          "base_uri": "https://localhost:8080/"
        }
      },
      "source": [
        "type(arr)"
      ],
      "execution_count": 7,
      "outputs": [
        {
          "output_type": "execute_result",
          "data": {
            "text/plain": [
              "numpy.ndarray"
            ]
          },
          "metadata": {
            "tags": []
          },
          "execution_count": 7
        }
      ]
    },
    {
      "cell_type": "code",
      "metadata": {
        "id": "hPGDRBJgLxgd",
        "outputId": "487a1f0f-bd14-4549-e19e-5f99f0f32276",
        "colab": {
          "base_uri": "https://localhost:8080/"
        }
      },
      "source": [
        "arr.shape"
      ],
      "execution_count": 8,
      "outputs": [
        {
          "output_type": "execute_result",
          "data": {
            "text/plain": [
              "(5,)"
            ]
          },
          "metadata": {
            "tags": []
          },
          "execution_count": 8
        }
      ]
    },
    {
      "cell_type": "code",
      "metadata": {
        "id": "wA1jbg8bMAoN",
        "outputId": "2f066b77-2c16-4106-e4bc-fe7cfbd8ea90",
        "colab": {
          "base_uri": "https://localhost:8080/"
        }
      },
      "source": [
        "list1 = [1,2,3,4,5]\n",
        "list2 = [2,6,1,7,9]\n",
        "list3 = [4,2,6,5,1]\n",
        "arr2 = np.array([list1,list2,list3])\n",
        "print(arr2)\n",
        "arr2.shape"
      ],
      "execution_count": 36,
      "outputs": [
        {
          "output_type": "stream",
          "text": [
            "[[1 2 3 4 5]\n",
            " [2 6 1 7 9]\n",
            " [4 2 6 5 1]]\n"
          ],
          "name": "stdout"
        },
        {
          "output_type": "execute_result",
          "data": {
            "text/plain": [
              "(3, 5)"
            ]
          },
          "metadata": {
            "tags": []
          },
          "execution_count": 36
        }
      ]
    },
    {
      "cell_type": "code",
      "metadata": {
        "id": "QLgUWY3yMOpO",
        "outputId": "8819ee3d-2e69-433c-9530-d7f08786108b",
        "colab": {
          "base_uri": "https://localhost:8080/"
        }
      },
      "source": [
        "arr2 = arr2.reshape(5,3)\n",
        "arr2"
      ],
      "execution_count": 38,
      "outputs": [
        {
          "output_type": "execute_result",
          "data": {
            "text/plain": [
              "array([[1, 2, 3],\n",
              "       [4, 5, 2],\n",
              "       [6, 1, 7],\n",
              "       [9, 4, 2],\n",
              "       [6, 5, 1]])"
            ]
          },
          "metadata": {
            "tags": []
          },
          "execution_count": 38
        }
      ]
    },
    {
      "cell_type": "code",
      "metadata": {
        "id": "8LiKoLiFMpU4",
        "outputId": "7f27d5ad-06d4-40fc-dd62-684f0c95dec6",
        "colab": {
          "base_uri": "https://localhost:8080/"
        }
      },
      "source": [
        "arr2[0:2,1:3]"
      ],
      "execution_count": 39,
      "outputs": [
        {
          "output_type": "execute_result",
          "data": {
            "text/plain": [
              "array([[2, 3],\n",
              "       [5, 2]])"
            ]
          },
          "metadata": {
            "tags": []
          },
          "execution_count": 39
        }
      ]
    },
    {
      "cell_type": "code",
      "metadata": {
        "id": "HLMXdw36NYSq",
        "outputId": "bbea861b-c285-40d1-cc71-692ac45b3776",
        "colab": {
          "base_uri": "https://localhost:8080/"
        }
      },
      "source": [
        "arr[1]"
      ],
      "execution_count": 40,
      "outputs": [
        {
          "output_type": "execute_result",
          "data": {
            "text/plain": [
              "2"
            ]
          },
          "metadata": {
            "tags": []
          },
          "execution_count": 40
        }
      ]
    },
    {
      "cell_type": "code",
      "metadata": {
        "id": "EBuyAYeVNgHf",
        "outputId": "7f21666a-2b65-4808-d1a0-09f1d9fa1e8a",
        "colab": {
          "base_uri": "https://localhost:8080/"
        }
      },
      "source": [
        "arr = np.arange(1,11)\n",
        "arr"
      ],
      "execution_count": 42,
      "outputs": [
        {
          "output_type": "execute_result",
          "data": {
            "text/plain": [
              "array([ 1,  2,  3,  4,  5,  6,  7,  8,  9, 10])"
            ]
          },
          "metadata": {
            "tags": []
          },
          "execution_count": 42
        }
      ]
    },
    {
      "cell_type": "code",
      "metadata": {
        "id": "4u4WBm2dPD0v",
        "outputId": "4788782f-212f-4146-8725-0efe8cf9a2fc",
        "colab": {
          "base_uri": "https://localhost:8080/"
        }
      },
      "source": [
        "arr = np.arange(1,11,4)\n",
        "arr"
      ],
      "execution_count": 45,
      "outputs": [
        {
          "output_type": "execute_result",
          "data": {
            "text/plain": [
              "array([1, 5, 9])"
            ]
          },
          "metadata": {
            "tags": []
          },
          "execution_count": 45
        }
      ]
    },
    {
      "cell_type": "code",
      "metadata": {
        "id": "2ozZThiCPNXw",
        "outputId": "e6210b15-4d00-4ba8-9182-ff2d3f626f82",
        "colab": {
          "base_uri": "https://localhost:8080/"
        }
      },
      "source": [
        "np.linspace(1,151,23)"
      ],
      "execution_count": 49,
      "outputs": [
        {
          "output_type": "execute_result",
          "data": {
            "text/plain": [
              "array([  1.        ,   7.81818182,  14.63636364,  21.45454545,\n",
              "        28.27272727,  35.09090909,  41.90909091,  48.72727273,\n",
              "        55.54545455,  62.36363636,  69.18181818,  76.        ,\n",
              "        82.81818182,  89.63636364,  96.45454545, 103.27272727,\n",
              "       110.09090909, 116.90909091, 123.72727273, 130.54545455,\n",
              "       137.36363636, 144.18181818, 151.        ])"
            ]
          },
          "metadata": {
            "tags": []
          },
          "execution_count": 49
        }
      ]
    },
    {
      "cell_type": "code",
      "metadata": {
        "id": "KppMuSb1PXJE",
        "outputId": "b788885f-f75e-45ff-f9fe-bbcc55cd2e53",
        "colab": {
          "base_uri": "https://localhost:8080/"
        }
      },
      "source": [
        "arr3 = np.arange(1,11,2)\n",
        "arr3"
      ],
      "execution_count": 62,
      "outputs": [
        {
          "output_type": "execute_result",
          "data": {
            "text/plain": [
              "array([1, 3, 5, 7, 9])"
            ]
          },
          "metadata": {
            "tags": []
          },
          "execution_count": 62
        }
      ]
    },
    {
      "cell_type": "code",
      "metadata": {
        "id": "eZyRHvs_P2D2",
        "outputId": "12b0430f-ba43-41e3-fc55-c219bb50a9f9",
        "colab": {
          "base_uri": "https://localhost:8080/"
        }
      },
      "source": [
        "arr3[3:]=100\n",
        "arr3"
      ],
      "execution_count": 63,
      "outputs": [
        {
          "output_type": "execute_result",
          "data": {
            "text/plain": [
              "array([  1,   3,   5, 100, 100])"
            ]
          },
          "metadata": {
            "tags": []
          },
          "execution_count": 63
        }
      ]
    },
    {
      "cell_type": "code",
      "metadata": {
        "id": "lIM_6Qm-P47c",
        "outputId": "8661b938-ec99-495c-c3e9-4b1dd642c0a6",
        "colab": {
          "base_uri": "https://localhost:8080/"
        }
      },
      "source": [
        "#copy function and broadcasting\n",
        "arr4 = arr3\n",
        "arr4"
      ],
      "execution_count": 64,
      "outputs": [
        {
          "output_type": "execute_result",
          "data": {
            "text/plain": [
              "array([  1,   3,   5, 100, 100])"
            ]
          },
          "metadata": {
            "tags": []
          },
          "execution_count": 64
        }
      ]
    },
    {
      "cell_type": "code",
      "metadata": {
        "id": "7Q9vtiNDQNQ4"
      },
      "source": [
        "arr4[3:]=150"
      ],
      "execution_count": 65,
      "outputs": []
    },
    {
      "cell_type": "code",
      "metadata": {
        "id": "IwBh8hNaQNyq",
        "outputId": "1a55f9aa-58be-4cf6-d85d-c5b38612dbbd",
        "colab": {
          "base_uri": "https://localhost:8080/"
        }
      },
      "source": [
        "arr3 #auto update"
      ],
      "execution_count": 66,
      "outputs": [
        {
          "output_type": "execute_result",
          "data": {
            "text/plain": [
              "array([  1,   3,   5, 150, 150])"
            ]
          },
          "metadata": {
            "tags": []
          },
          "execution_count": 66
        }
      ]
    },
    {
      "cell_type": "code",
      "metadata": {
        "id": "bwCT8xIhQTf2",
        "outputId": "081b2088-fe5c-404d-89d4-9037f6b75cca",
        "colab": {
          "base_uri": "https://localhost:8080/"
        }
      },
      "source": [
        "print(arr)\n",
        "arr**2"
      ],
      "execution_count": 69,
      "outputs": [
        {
          "output_type": "stream",
          "text": [
            "[1 5 9]\n"
          ],
          "name": "stdout"
        },
        {
          "output_type": "execute_result",
          "data": {
            "text/plain": [
              "array([ 1, 25, 81])"
            ]
          },
          "metadata": {
            "tags": []
          },
          "execution_count": 69
        }
      ]
    },
    {
      "cell_type": "code",
      "metadata": {
        "id": "alZogoZXQzG4",
        "outputId": "a54e937e-157d-4c1c-c4e5-867a1bc8e7c6",
        "colab": {
          "base_uri": "https://localhost:8080/"
        }
      },
      "source": [
        "arr<2"
      ],
      "execution_count": 70,
      "outputs": [
        {
          "output_type": "execute_result",
          "data": {
            "text/plain": [
              "array([ True, False, False])"
            ]
          },
          "metadata": {
            "tags": []
          },
          "execution_count": 70
        }
      ]
    },
    {
      "cell_type": "code",
      "metadata": {
        "id": "GiitW1DJQ6Cs",
        "outputId": "cad9b589-f012-480e-b15a-2cbfe2e7c0c0",
        "colab": {
          "base_uri": "https://localhost:8080/"
        }
      },
      "source": [
        "np.arange(1,11).reshape(2,5)"
      ],
      "execution_count": 72,
      "outputs": [
        {
          "output_type": "execute_result",
          "data": {
            "text/plain": [
              "array([[ 1,  2,  3,  4,  5],\n",
              "       [ 6,  7,  8,  9, 10]])"
            ]
          },
          "metadata": {
            "tags": []
          },
          "execution_count": 72
        }
      ]
    },
    {
      "cell_type": "code",
      "metadata": {
        "id": "ZsM8nHzKRGVr",
        "outputId": "8e57a1c9-425a-4053-f18b-2650e5e7333c",
        "colab": {
          "base_uri": "https://localhost:8080/"
        }
      },
      "source": [
        "np.ones(4)"
      ],
      "execution_count": 73,
      "outputs": [
        {
          "output_type": "execute_result",
          "data": {
            "text/plain": [
              "array([1., 1., 1., 1.])"
            ]
          },
          "metadata": {
            "tags": []
          },
          "execution_count": 73
        }
      ]
    },
    {
      "cell_type": "code",
      "metadata": {
        "id": "BeMgoruEROce",
        "outputId": "d81c7912-753c-498c-c079-8cc2969982fe",
        "colab": {
          "base_uri": "https://localhost:8080/"
        }
      },
      "source": [
        "np.ones((2,5),dtype = int)"
      ],
      "execution_count": 75,
      "outputs": [
        {
          "output_type": "execute_result",
          "data": {
            "text/plain": [
              "array([[1, 1, 1, 1, 1],\n",
              "       [1, 1, 1, 1, 1]])"
            ]
          },
          "metadata": {
            "tags": []
          },
          "execution_count": 75
        }
      ]
    },
    {
      "cell_type": "code",
      "metadata": {
        "id": "QJTOG3cdRROx",
        "outputId": "6609d65b-0f7b-4d82-a9cc-ce8ce6b8ebc8",
        "colab": {
          "base_uri": "https://localhost:8080/"
        }
      },
      "source": [
        "#random distribution \n",
        "np.random.rand(4,3,5)"
      ],
      "execution_count": 80,
      "outputs": [
        {
          "output_type": "execute_result",
          "data": {
            "text/plain": [
              "array([[[0.59242847, 0.71564261, 0.57812261, 0.62872922, 0.24994194],\n",
              "        [0.89184788, 0.68236048, 0.65034023, 0.22861864, 0.30130302],\n",
              "        [0.96999743, 0.3362695 , 0.3602802 , 0.38914477, 0.69887626]],\n",
              "\n",
              "       [[0.16001393, 0.4046272 , 0.17223181, 0.48870584, 0.48851437],\n",
              "        [0.29694807, 0.54573891, 0.47860214, 0.09333712, 0.61619417],\n",
              "        [0.04027079, 0.90689747, 0.2917461 , 0.92561495, 0.35452385]],\n",
              "\n",
              "       [[0.4217178 , 0.41691859, 0.13944423, 0.58098271, 0.17291669],\n",
              "        [0.3380245 , 0.66383155, 0.43447054, 0.02712154, 0.04012773],\n",
              "        [0.08903461, 0.24316723, 0.74554408, 0.42346927, 0.11112004]],\n",
              "\n",
              "       [[0.46513792, 0.36873616, 0.06163574, 0.30317054, 0.28171241],\n",
              "        [0.90122925, 0.11484496, 0.12587597, 0.7143267 , 0.20463621],\n",
              "        [0.92691979, 0.2394724 , 0.51076608, 0.18214533, 0.63219978]]])"
            ]
          },
          "metadata": {
            "tags": []
          },
          "execution_count": 80
        }
      ]
    },
    {
      "cell_type": "code",
      "metadata": {
        "id": "ZaO2fFkSRal0",
        "outputId": "9fcea116-851c-4474-c754-07fa1a8edf6e",
        "colab": {
          "base_uri": "https://localhost:8080/"
        }
      },
      "source": [
        "arr_ex = np.random.rand(4,4)\n",
        "arr_ex"
      ],
      "execution_count": 84,
      "outputs": [
        {
          "output_type": "execute_result",
          "data": {
            "text/plain": [
              "array([[0.24409793, 0.48204698, 0.22254005, 0.40695487],\n",
              "       [0.29138292, 0.30976548, 0.49230461, 0.26644866],\n",
              "       [0.64473789, 0.20062396, 0.43672659, 0.23722238],\n",
              "       [0.16352973, 0.14490614, 0.35489874, 0.10695758]])"
            ]
          },
          "metadata": {
            "tags": []
          },
          "execution_count": 84
        }
      ]
    },
    {
      "cell_type": "code",
      "metadata": {
        "id": "wS9y1nrNR77w",
        "outputId": "6c14f92e-d05f-4845-94dd-b21cbb87901e",
        "colab": {
          "base_uri": "https://localhost:8080/",
          "height": 335
        }
      },
      "source": [
        "import pandas as pd\n",
        "import seaborn as sns\n",
        "sns.distplot(pd.DataFrame(arr_ex))"
      ],
      "execution_count": 85,
      "outputs": [
        {
          "output_type": "stream",
          "text": [
            "/usr/local/lib/python3.6/dist-packages/seaborn/distributions.py:2551: FutureWarning: `distplot` is a deprecated function and will be removed in a future version. Please adapt your code to use either `displot` (a figure-level function with similar flexibility) or `histplot` (an axes-level function for histograms).\n",
            "  warnings.warn(msg, FutureWarning)\n"
          ],
          "name": "stderr"
        },
        {
          "output_type": "execute_result",
          "data": {
            "text/plain": [
              "<matplotlib.axes._subplots.AxesSubplot at 0x7f79d6101320>"
            ]
          },
          "metadata": {
            "tags": []
          },
          "execution_count": 85
        },
        {
          "output_type": "display_data",
          "data": {
            "image/png": "[encoded data removed]",
            "text/plain": [
              "<Figure size 432x288 with 1 Axes>"
            ]
          },
          "metadata": {
            "tags": [],
            "needs_background": "light"
          }
        }
      ]
    },
    {
      "cell_type": "code",
      "metadata": {
        "id": "V1d7wxAAvasP"
      },
      "source": [
        ""
      ],
      "execution_count": null,
      "outputs": []
    }
  ]
}