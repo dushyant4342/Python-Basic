{
  "nbformat": 4,
  "nbformat_minor": 0,
  "metadata": {
    "colab": {
      "name": "STRINGS.ipynb",
      "provenance": [],
      "collapsed_sections": []
    },
    "kernelspec": {
      "name": "python3",
      "display_name": "Python 3"
    }
  },
  "cells": [
    {
      "cell_type": "code",
      "metadata": {
        "id": "oMTDcsn3xe33",
        "outputId": "0ee071d9-81e9-4993-a411-e118ba020122",
        "colab": {
          "base_uri": "https://localhost:8080/"
        }
      },
      "source": [
        "#Remove all consonents from string  \n",
        "test_str = \"Gfg is best for geeks\"\n",
        "\n",
        "print(\"The original string is : \" + test_str) \n",
        "\n",
        "# Remove all consonents from string Using loop \n",
        "res = [] \n",
        "for chr in test_str: \n",
        "\tif chr in \"aeiouAEIOU\": \n",
        "\t\tres.extend(chr) \n",
        "res = \" \".join(res) \n",
        "\n",
        "print(\"String after consonents removal : \" + str(res)) "
      ],
      "execution_count": 6,
      "outputs": [
        {
          "output_type": "stream",
          "text": [
            "The original string is : Gfg is best for geeks\n",
            "String after consonents removal : i e o e e\n"
          ],
          "name": "stdout"
        }
      ]
    },
    {
      "cell_type": "code",
      "metadata": {
        "id": "twQxpFI_xtyB",
        "outputId": "4c3673b8-2546-4fa6-f272-09b7ca92ce86",
        "colab": {
          "base_uri": "https://localhost:8080/"
        }
      },
      "source": [
        "# Python3 program to reverse a string\n",
        "s = \"i like this program very much\"\n",
        "words = s.split(' ')\n",
        "string =[]\n",
        "for word in words:\n",
        "\tstring.insert(0, word)\n",
        "\n",
        "print(\"Reversed String:\")\n",
        "print(\" \".join(string))"
      ],
      "execution_count": 10,
      "outputs": [
        {
          "output_type": "stream",
          "text": [
            "Reversed String:\n",
            "much very program this like i\n"
          ],
          "name": "stdout"
        }
      ]
    },
    {
      "cell_type": "code",
      "metadata": {
        "id": "8jv9QhrFHojh",
        "outputId": "df23583f-270d-4f56-97eb-02ffe8eb88f8",
        "colab": {
          "base_uri": "https://localhost:8080/"
        }
      },
      "source": [
        "# Python Program to Count Vowels and Consonants in a String\n",
        "\n",
        "str1 = \"Please Enter Your Own String \"\n",
        "vowels = 0\n",
        "consonants = 0\n",
        "str1.lower()\n",
        "\n",
        "for i in str1:\n",
        "    if(i == 'a' or i == 'e' or i == 'i' or i == 'o' or i == 'u'):\n",
        "        vowels = vowels + 1\n",
        "    else:\n",
        "        consonants = consonants + 1\n",
        " \n",
        "print(\"Total Number of Vowels in this String = \", vowels)\n",
        "print(\"Total Number of Consonants in this String = \", consonants)"
      ],
      "execution_count": 12,
      "outputs": [
        {
          "output_type": "stream",
          "text": [
            "Total Number of Vowels in this String =  7\n",
            "Total Number of Consonants in this String =  22\n"
          ],
          "name": "stdout"
        }
      ]
    },
    {
      "cell_type": "code",
      "metadata": {
        "id": "IAqdGTOxIi7T"
      },
      "source": [
        ""
      ],
      "execution_count": null,
      "outputs": []
    }
  ]
}