{
  "nbformat": 4,
  "nbformat_minor": 0,
  "metadata": {
    "colab": {
      "name": "SORTING",
      "provenance": [],
      "collapsed_sections": []
    },
    "kernelspec": {
      "name": "python3",
      "display_name": "Python 3"
    }
  },
  "cells": [
    {
      "cell_type": "code",
      "metadata": {
        "id": "Ps1Ir8PzaNqx",
        "outputId": "049124c0-0c85-4e0e-ebb3-de6d58779f9f",
        "colab": {
          "base_uri": "https://localhost:8080/"
        }
      },
      "source": [
        "def bubblesort(arr):\n",
        "  n = len(arr)\n",
        "  for i in range(n):\n",
        "    for j in range(0,n-i-1):\n",
        "      if arr[j]>arr[j+1]:\n",
        "        arr[j],arr[j+1]=arr[j+1],arr[j]\n",
        "\n",
        "arr = [15,1,21,-8,4,13,2,6]\n",
        "n= len(arr)\n",
        "bubblesort(arr)\n",
        "\n",
        "for i in range(n):\n",
        "  print(arr[i],end = ' ')"
      ],
      "execution_count": 23,
      "outputs": [
        {
          "output_type": "stream",
          "text": [
            "-8 1 2 4 6 13 15 21 "
          ],
          "name": "stdout"
        }
      ]
    },
    {
      "cell_type": "code",
      "metadata": {
        "id": "kCDNrEs6p42x",
        "outputId": "25ec4956-4555-45d8-f075-5c833db8b5c2",
        "colab": {
          "base_uri": "https://localhost:8080/"
        }
      },
      "source": [
        "# A typical recursive Python iterative implementation of QuickSort \n",
        "\n",
        "# Function takes last element as pivot, \n",
        "# places the pivot element at its correct \n",
        "# position in sorted array, and places all \n",
        "# smaller (smaller than pivot) to left of \n",
        "# pivot and all greater elements to right \n",
        "# of pivot \n",
        "def partition(arr, low, high): \n",
        "\ti = (low - 1)\t\t # index of smaller element \n",
        "\tpivot = arr[high]\t # pivot \n",
        "\n",
        "\tfor j in range(low, high): \n",
        "\n",
        "\t\t# If current element is smaller \n",
        "\t\t# than or equal to pivot \n",
        "\t\tif arr[j] <= pivot: \n",
        "\t\t\n",
        "\t\t\t# increment index of \n",
        "\t\t\t# smaller element \n",
        "\t\t\ti += 1\n",
        "\t\t\tarr[i], arr[j] = arr[j], arr[i] \n",
        "\n",
        "\tarr[i + 1], arr[high] = arr[high], arr[i + 1] \n",
        "\treturn (i + 1) \n",
        "\n",
        "# The main function that implements QuickSort \n",
        "# arr[] --> Array to be sorted, \n",
        "# low --> Starting index, \n",
        "# high --> Ending index \n",
        "\n",
        "# Function to do Quick sort \n",
        "def quickSort(arr, low, high): \n",
        "\tif low < high: \n",
        "\n",
        "\t\t# pi is partitioning index, arr[p] is now \n",
        "\t\t# at right place \n",
        "\t\tpi = partition(arr, low, high) \n",
        "\n",
        "\t\t# Separately sort elements before \n",
        "\t\t# partition and after partition \n",
        "\t\tquickSort(arr, low, pi-1) \n",
        "\t\tquickSort(arr, pi + 1, high) \n",
        "\n",
        "if __name__ == '__main__' : \n",
        "\t\n",
        "\tarr = [4, 2, 6, 9, 2] \n",
        "\tn = len(arr) \n",
        "\t\n",
        "\t# Calling quickSort function \n",
        "\tquickSort(arr, 0, n - 1) \n",
        "\t\n",
        "\tfor i in range(n): \n",
        "\t\tprint(arr[i], end = \" \") \n"
      ],
      "execution_count": 24,
      "outputs": [
        {
          "output_type": "stream",
          "text": [
            "2 2 4 6 9 "
          ],
          "name": "stdout"
        }
      ]
    },
    {
      "cell_type": "code",
      "metadata": {
        "id": "SZc8MGPBrtM-",
        "outputId": "c8b7007a-cb1b-4551-81b2-a4916c4b924a",
        "colab": {
          "base_uri": "https://localhost:8080/"
        }
      },
      "source": [
        "#INSERTION SORT \n",
        "def insertionSort(arr): \n",
        "\t# Traverse through 1 to len(arr) \n",
        "\tfor i in range(1, len(arr)): \n",
        "\t\tkey = arr[i] \n",
        "\t\t# Move elements of arr[0..i-1], that are greater than key, to one position ahead of their current position \n",
        "\t\tj = i-1\n",
        "\t\twhile j >= 0 and key < arr[j] : \n",
        "\t\t\t\tarr[j + 1] = arr[j] \n",
        "\t\t\t\tj -= 1\n",
        "\t\tarr[j + 1] = key \n",
        "\n",
        "arr = [12, 11, 13, 5, 6] \n",
        "insertionSort(arr) \n",
        "for i in range(len(arr)): \n",
        "\tprint (\"% d\" % arr[i])"
      ],
      "execution_count": 25,
      "outputs": [
        {
          "output_type": "stream",
          "text": [
            " 5\n",
            " 6\n",
            " 11\n",
            " 12\n",
            " 13\n"
          ],
          "name": "stdout"
        }
      ]
    },
    {
      "cell_type": "code",
      "metadata": {
        "id": "UAM_JNwYsNvN",
        "outputId": "c6b704b8-809b-4eb5-88e6-52fad2603929",
        "colab": {
          "base_uri": "https://localhost:8080/"
        }
      },
      "source": [
        "#MergeSort \n",
        "def mergeSort(arr): \n",
        "\tif len(arr) >1: \n",
        "\t\tmid = len(arr)//2 # Finding the mid of the array \n",
        "\t\tL = arr[:mid] # Dividing the array elements \n",
        "\t\tR = arr[mid:] # into 2 halves \n",
        "\n",
        "\t\tmergeSort(L) # Sorting the first half \n",
        "\t\tmergeSort(R) # Sorting the second half \n",
        "\n",
        "\t\ti = j = k = 0\n",
        "\t\t\n",
        "\t\t# Copy data to temp arrays L[] and R[] \n",
        "\t\twhile i < len(L) and j < len(R): \n",
        "\t\t\tif L[i] < R[j]: \n",
        "\t\t\t\tarr[k] = L[i] \n",
        "\t\t\t\ti+= 1\n",
        "\t\t\telse: \n",
        "\t\t\t\tarr[k] = R[j] \n",
        "\t\t\t\tj+= 1\n",
        "\t\t\tk+= 1\n",
        "\t\t\n",
        "\t\t# Checking if any element was left \n",
        "\t\twhile i < len(L): \n",
        "\t\t\tarr[k] = L[i] \n",
        "\t\t\ti+= 1\n",
        "\t\t\tk+= 1\n",
        "\t\t\n",
        "\t\twhile j < len(R): \n",
        "\t\t\tarr[k] = R[j] \n",
        "\t\t\tj+= 1\n",
        "\t\t\tk+= 1\n",
        "\n",
        "# Code to print the list \n",
        "def printList(arr): \n",
        "\tfor i in range(len(arr)):\t\t \n",
        "\t\tprint(arr[i], end =\" \") \n",
        "\tprint() \n",
        "\n",
        "# driver code to test the above code \n",
        "if __name__ == '__main__': \n",
        "\tarr = [12, 11, 13, 5, 6, 7] \n",
        "\tprint (\"Given array is\", end =\"\\n\") \n",
        "\tprintList(arr) \n",
        "\tmergeSort(arr) \n",
        "\tprint(\"Sorted array is: \", end =\"\\n\") \n",
        "\tprintList(arr) "
      ],
      "execution_count": 26,
      "outputs": [
        {
          "output_type": "stream",
          "text": [
            "Given array is\n",
            "12 11 13 5 6 7 \n",
            "Sorted array is: \n",
            "5 6 7 11 12 13 \n"
          ],
          "name": "stdout"
        }
      ]
    },
    {
      "cell_type": "code",
      "metadata": {
        "id": "pNTE5f3Zs1gr"
      },
      "source": [
        ""
      ],
      "execution_count": null,
      "outputs": []
    }
  ]
}